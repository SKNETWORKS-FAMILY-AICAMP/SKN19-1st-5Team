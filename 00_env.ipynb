{
 "cells": [
  {
   "cell_type": "markdown",
   "id": "735010ee",
   "metadata": {},
   "source": [
    "### 환경변수 관리\n",
    "애플리케이션의 Client ID, Client Secret은 절대 외부에 노출되어서는 안된다\n",
    "- dotenv를 통해 관리"
   ]
  },
  {
   "cell_type": "code",
   "execution_count": 1,
   "id": "f94bdcf4",
   "metadata": {},
   "outputs": [],
   "source": [
    "# !pip install python-dotenv"
   ]
  },
  {
   "cell_type": "code",
   "execution_count": 2,
   "id": "cb1f4075",
   "metadata": {},
   "outputs": [
    {
     "data": {
      "text/plain": [
       "True"
      ]
     },
     "execution_count": 2,
     "metadata": {},
     "output_type": "execute_result"
    }
   ],
   "source": [
    "from dotenv import load_dotenv\n",
    "load_dotenv()"
   ]
  },
  {
   "cell_type": "code",
   "execution_count": 7,
   "id": "25bfe803",
   "metadata": {},
   "outputs": [],
   "source": [
    "import os\n",
    "NAVER_CLIENT_ID = os.getenv(\"NAVER_CLIENT_ID\")\n",
    "NAVER_CLIENT_SECRET = os.getenv(\"NAVER_CLIENT_SECRET\")\n",
    "\n",
    "if not NAVER_CLIENT_ID or not NAVER_CLIENT_SECRET:\n",
    "    raise ValueError(\"NAVER_CLIENT_ID 또는 NAVER_CLIENT_SECRET이 설정되지 않았습니다.\")"
   ]
  }
 ],
 "metadata": {
  "kernelspec": {
   "display_name": "pystudy_env",
   "language": "python",
   "name": "python3"
  },
  "language_info": {
   "codemirror_mode": {
    "name": "ipython",
    "version": 3
   },
   "file_extension": ".py",
   "mimetype": "text/x-python",
   "name": "python",
   "nbconvert_exporter": "python",
   "pygments_lexer": "ipython3",
   "version": "3.12.11"
  }
 },
 "nbformat": 4,
 "nbformat_minor": 5
}
